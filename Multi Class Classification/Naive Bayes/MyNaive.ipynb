{
 "cells": [
  {
   "cell_type": "code",
   "execution_count": 4,
   "metadata": {},
   "outputs": [
    {
     "name": "stdout",
     "output_type": "stream",
     "text": [
      "+-----+--------------------+--------------------+--------------------+----------+\n",
      "|label|            features|       rawPrediction|         probability|prediction|\n",
      "+-----+--------------------+--------------------+--------------------+----------+\n",
      "|  0.0|(100,[0,1,2,4,5,1...|[-132.08841666947...|[1.0,2.6112979117...|       0.0|\n",
      "|  0.0|(100,[0,1,2,4,5,1...|[-132.08841666947...|[1.0,2.6112979117...|       0.0|\n",
      "|  0.0|(100,[0,1,2,4,5,1...|[-132.08841666947...|[1.0,2.6112979117...|       0.0|\n",
      "|  0.0|(100,[0,1,2,4,8,9...|[-101.47798502549...|[1.0,1.4000530024...|       0.0|\n",
      "|  0.0|(100,[0,1,2,4,8,9...|[-101.47798502549...|[1.0,1.4000530024...|       0.0|\n",
      "|  0.0|(100,[0,1,2,4,8,9...|[-101.47798502549...|[1.0,1.4000530024...|       0.0|\n",
      "|  0.0|(100,[0,1,2,4,8,9...|[-101.47798502549...|[1.0,1.4000530024...|       0.0|\n",
      "|  0.0|(100,[0,1,2,8,24,...|[-76.850690653443...|[1.0,1.1800593050...|       0.0|\n",
      "|  0.0|(100,[0,1,2,8,24,...|[-76.850690653443...|[1.0,1.1800593050...|       0.0|\n",
      "|  0.0|(100,[0,1,2,8,24,...|[-76.850690653443...|[1.0,1.1800593050...|       0.0|\n",
      "|  0.0|(100,[0,1,2,8,24,...|[-76.850690653443...|[1.0,1.1800593050...|       0.0|\n",
      "|  0.0|(100,[0,1,2,8,24,...|[-76.850690653443...|[1.0,1.1800593050...|       0.0|\n",
      "|  0.0|(100,[0,1,2,8,24,...|[-76.850690653443...|[1.0,1.1800593050...|       0.0|\n",
      "|  0.0|(100,[0,1,6,10,14...|[-117.65022314973...|[1.0,9.7242163558...|       0.0|\n",
      "|  0.0|(100,[0,1,6,10,14...|[-117.65022314973...|[1.0,9.7242163558...|       0.0|\n",
      "|  0.0|(100,[0,2,4,5,11,...|[-120.21925380921...|[1.0,3.0152855555...|       0.0|\n",
      "|  0.0|(100,[0,2,4,5,11,...|[-120.21925380921...|[1.0,3.0152855555...|       0.0|\n",
      "|  0.0|(100,[0,2,4,5,11,...|[-120.21925380921...|[1.0,3.0152855555...|       0.0|\n",
      "|  0.0|(100,[0,2,4,5,11,...|[-120.21925380921...|[1.0,3.0152855555...|       0.0|\n",
      "|  0.0|(100,[0,2,7,50,54...|[-48.509164051239...|[1.0,6.1016671082...|       0.0|\n",
      "+-----+--------------------+--------------------+--------------------+----------+\n",
      "only showing top 20 rows\n",
      "\n",
      "Test set accuracy = 0.963800904977\n"
     ]
    }
   ],
   "source": [
    "from __future__ import print_function\n",
    "\n",
    "# $example on$\n",
    "from pyspark.ml.classification import NaiveBayes\n",
    "from pyspark.ml.evaluation import MulticlassClassificationEvaluator\n",
    "# $example off$\n",
    "from pyspark.sql import SparkSession\n",
    "\n",
    "if __name__ == \"__main__\":\n",
    "    spark = SparkSession\\\n",
    "        .builder\\\n",
    "        .appName(\"NaiveBayesExample\")\\\n",
    "        .getOrCreate()\n",
    "\n",
    "    # $example on$\n",
    "    # Load training data\n",
    "    data = spark.read.format(\"libsvm\") \\\n",
    "        .load(\"C:\\Users\\dues1\\Desktop\\dataset-lab3\\dataset-lab3\\MyText.txt\")\n",
    "\n",
    "    # Split the data into train and test\n",
    "    split_data = data.randomSplit([0.6, 0.4], 1234)\n",
    "    train = split_data[0]\n",
    "    test = split_data[1]\n",
    "\n",
    "    # create the trainer and set its parameters\n",
    "    naive = NaiveBayes(smoothing=1.0, modelType=\"multinomial\")\n",
    "\n",
    "    # train the model\n",
    "    model = naive.fit(train)\n",
    "\n",
    "    # select example rows to display.\n",
    "    pred = model.transform(test)\n",
    "    pred.show()\n",
    "\n",
    "    # compute accuracy on the test set\n",
    "    evaluator = MulticlassClassificationEvaluator(labelCol=\"label\", predictionCol=\"prediction\",\n",
    "                                                  metricName=\"accuracy\")\n",
    "    accuracy = evaluator.evaluate(pred)\n",
    "    print(\"Test set accuracy = \" + str(accuracy))\n",
    "    # $example off$\n",
    "\n",
    "    spark.stop()\n"
   ]
  },
  {
   "cell_type": "code",
   "execution_count": null,
   "metadata": {},
   "outputs": [],
   "source": []
  }
 ],
 "metadata": {
  "kernelspec": {
   "display_name": "Python 2",
   "language": "python",
   "name": "python2"
  },
  "language_info": {
   "codemirror_mode": {
    "name": "ipython",
    "version": 2
   },
   "file_extension": ".py",
   "mimetype": "text/x-python",
   "name": "python",
   "nbconvert_exporter": "python",
   "pygments_lexer": "ipython2",
   "version": "2.7.14"
  }
 },
 "nbformat": 4,
 "nbformat_minor": 2
}
