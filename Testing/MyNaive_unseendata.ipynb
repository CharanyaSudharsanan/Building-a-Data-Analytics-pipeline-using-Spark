{
 "cells": [
  {
   "cell_type": "code",
   "execution_count": 9,
   "metadata": {},
   "outputs": [
    {
     "name": "stdout",
     "output_type": "stream",
     "text": [
      "+-----+--------------------+--------------------+--------------------+----------+\n",
      "|label|            features|       rawPrediction|         probability|prediction|\n",
      "+-----+--------------------+--------------------+--------------------+----------+\n",
      "|  2.0|(100,[9,25,26,28,...|[-609.43733457907...|[1.49229712327992...|       2.0|\n",
      "|  2.0|(100,[29,32,33,35...|[-357.41409839751...|[6.10919999476614...|       2.0|\n",
      "|  3.0|(100,[10,13,25,29...|[-548.04943691577...|[9.76213346208240...|       3.0|\n",
      "|  3.0|(100,[50,51,52,53...|[-327.46126127737...|[5.53763179257290...|       3.0|\n",
      "|  4.0|(100,[70,75,76,79...|[-108.60101991530...|[5.25061423559265...|       1.0|\n",
      "+-----+--------------------+--------------------+--------------------+----------+\n",
      "\n",
      "Test set accuracy = 80.0%\n"
     ]
    }
   ],
   "source": [
    "from __future__ import print_function\n",
    "\n",
    "# $example on$\n",
    "from pyspark.ml.classification import NaiveBayes\n",
    "from pyspark.ml.evaluation import MulticlassClassificationEvaluator\n",
    "# $example off$\n",
    "from pyspark.sql import SparkSession\n",
    "\n",
    "if __name__ == \"__main__\":\n",
    "    spark = SparkSession\\\n",
    "        .builder\\\n",
    "        .appName(\"NaiveBayesExample\")\\\n",
    "        .getOrCreate()\n",
    "\n",
    "    # $example on$\n",
    "    # Load training data\n",
    "    data = spark.read.format(\"libsvm\") \\\n",
    "        .load(\"C:\\Users\\dues1\\Desktop\\dataset-lab3\\dataset-lab3\\MyText.txt\")\n",
    "\n",
    "    # Split the data into train and test\n",
    "    #splits = data.randomSplit([0.6, 0.4], 1234)\n",
    "    #train = splits[0]\n",
    "    #test = splits[1]\n",
    "    train = data\n",
    "\n",
    "    # create the trainer and set its parameters\n",
    "    nb = NaiveBayes(smoothing=1.0, modelType=\"multinomial\")\n",
    "    \n",
    "    unseen_test = spark.read.format(\"libsvm\") \\\n",
    "        .load(\"C:\\Users\\dues1\\Desktop\\dataset-lab3\\dataset-lab3\\Test\\MyTest6.txt\")\n",
    "        \n",
    "    # train the model\n",
    "    model = nb.fit(train)\n",
    "\n",
    "    # select example rows to display.\n",
    "    predictions = model.transform(unseen_test)\n",
    "    predictions.show()\n",
    "\n",
    "    # compute accuracy on the test set\n",
    "    evaluator = MulticlassClassificationEvaluator(labelCol=\"label\", predictionCol=\"prediction\",\n",
    "                                                  metricName=\"accuracy\")\n",
    "    accuracy = evaluator.evaluate(predictions)\n",
    "    accuracy = accuracy * 100\n",
    "    print(\"Test set accuracy = \" + str(accuracy) + \"%\")\n",
    "    # $example off$\n",
    "\n",
    "    spark.stop()\n"
   ]
  },
  {
   "cell_type": "code",
   "execution_count": null,
   "metadata": {},
   "outputs": [],
   "source": []
  }
 ],
 "metadata": {
  "kernelspec": {
   "display_name": "Python 2",
   "language": "python",
   "name": "python2"
  },
  "language_info": {
   "codemirror_mode": {
    "name": "ipython",
    "version": 2
   },
   "file_extension": ".py",
   "mimetype": "text/x-python",
   "name": "python",
   "nbconvert_exporter": "python",
   "pygments_lexer": "ipython2",
   "version": "2.7.14"
  }
 },
 "nbformat": 4,
 "nbformat_minor": 2
}
